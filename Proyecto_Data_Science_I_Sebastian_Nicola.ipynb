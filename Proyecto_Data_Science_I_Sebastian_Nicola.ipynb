{
  "nbformat": 4,
  "nbformat_minor": 0,
  "metadata": {
    "colab": {
      "provenance": [],
      "authorship_tag": "ABX9TyMSS/4NltWTDL8aCDTDvaLA",
      "include_colab_link": true
    },
    "kernelspec": {
      "name": "python3",
      "display_name": "Python 3"
    },
    "language_info": {
      "name": "python"
    }
  },
  "cells": [
    {
      "cell_type": "markdown",
      "metadata": {
        "id": "view-in-github",
        "colab_type": "text"
      },
      "source": [
        "<a href=\"https://colab.research.google.com/github/Seba-Nicola/Proyecto-Data-Sceince/blob/main/Proyecto_Data_Science_I_Sebastian_Nicola.ipynb\" target=\"_parent\"><img src=\"https://colab.research.google.com/assets/colab-badge.svg\" alt=\"Open In Colab\"/></a>"
      ]
    },
    {
      "cell_type": "markdown",
      "source": [
        "#Proyecto Data Science I"
      ],
      "metadata": {
        "id": "JwVELICZtQlx"
      }
    },
    {
      "cell_type": "markdown",
      "source": [
        "A Continuación se presentan los tres Dataset a analizar para seleccionar el correspondiente al proyecto."
      ],
      "metadata": {
        "id": "llrkR3bhtTnc"
      }
    },
    {
      "cell_type": "markdown",
      "source": [
        "##Dataset 1: Atención Hospitalaria"
      ],
      "metadata": {
        "id": "0fJ6lGh71zvV"
      }
    },
    {
      "cell_type": "markdown",
      "source": [
        "Descripción:contiene datos sobre atención hospitalaria, Cada columna proporciona información específica sobre el paciente, su ingreso y los servicios de salud prestados, lo que hace que este conjunto de datos sea adecuado para diversas tareas de análisis y modelado de datos en el ámbito sanitario."
      ],
      "metadata": {
        "id": "k4OUevFv18m2"
      }
    },
    {
      "cell_type": "markdown",
      "source": [
        "**Objetivo: predecir el resultado del estudio. \"Normal,\" \"Abnormal,\" o \"Inconclusive\". (Clasificación multiclase)**"
      ],
      "metadata": {
        "id": "utW_t7_72kKc"
      }
    },
    {
      "cell_type": "markdown",
      "source": [
        "##Dataset 2: Diabetes de 130 hospitales"
      ],
      "metadata": {
        "id": "3YbE2QoAtjup"
      }
    },
    {
      "cell_type": "markdown",
      "source": [
        "Descripción: contiene datos de atención clínica en 130 hospitales y redes integradas de atención médica de EE. UU. Cada registro representa el ingreso hospitalario de un paciente con diagnóstico de diabetes cuya estancia duró entre uno y catorce días."
      ],
      "metadata": {
        "id": "u1fkyxL4tLcx"
      }
    },
    {
      "cell_type": "markdown",
      "source": [
        "**Objetivo: predecir reingresos hospitalarios. (Clasificación binaria)**"
      ],
      "metadata": {
        "id": "eIHKBpbcuZh-"
      }
    },
    {
      "cell_type": "markdown",
      "source": [
        "##Dataset 3: Asma"
      ],
      "metadata": {
        "id": "WGt0frRX760L"
      }
    },
    {
      "cell_type": "markdown",
      "source": [
        "Descripción: contiene información sobre pacientes determinando la presencia de asma y el nivel de afección."
      ],
      "metadata": {
        "id": "dgKxinP17_F3"
      }
    }
  ]
}